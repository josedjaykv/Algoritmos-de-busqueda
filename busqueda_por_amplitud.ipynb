{
 "cells": [
  {
   "cell_type": "code",
   "execution_count": 10,
   "metadata": {},
   "outputs": [],
   "source": [
    "from grafos import Accion\n",
    "from grafos import Estado\n",
    "from grafos import Nodo\n",
    "from grafos import Problema"
   ]
  },
  {
   "cell_type": "markdown",
   "metadata": {},
   "source": [
    "Crear métodos auxiliares"
   ]
  },
  {
   "cell_type": "code",
   "execution_count": 11,
   "metadata": {},
   "outputs": [],
   "source": [
    "# Identifica el estado inicial (el centro de distribución)\n",
    "def crear_nodo_raiz(problema):\n",
    "    estado_raiz = problema.estado_inicial\n",
    "    acciones_raiz = {}\n",
    "    if estado_raiz.nombre in problema.acciones.keys():\n",
    "        acciones_raiz = problema.acciones[estado_raiz.nombre]\n",
    "    raiz = Nodo(estado_raiz, None, acciones_raiz, None)\n",
    "    return raiz\n",
    "\n",
    "# A partir del nodo raiz identifaca de donde viene y hacia donde puede ir\n",
    "def crear_nodo_hijo(problema, padre, accion):\n",
    "    nuevo_estado = problema.resultado(padre.estado, accion)\n",
    "    acciones_nuevo = {}\n",
    "    if nuevo_estado.nombre in problema.acciones.keys():\n",
    "        acciones_nuevo = problema.acciones[nuevo_estado.nombre]\n",
    "    hijo = Nodo(nuevo_estado, accion, acciones_nuevo, padre)\n",
    "    padre.hijos.append(hijo)\n",
    "    return hijo\n",
    "\n",
    "# Nos muestra la solución\n",
    "def muestra_solucion(objetivo = None):\n",
    "    if not objetivo:\n",
    "        print('No hay solución')\n",
    "        return\n",
    "    nodo = objetivo\n",
    "    while nodo:\n",
    "        msg = 'Estado: {0}'\n",
    "        print(msg.format(nodo.estado.nombre))\n",
    "        if nodo.accion:\n",
    "            msg = \"<----{0}---->\"\n",
    "            print(msg.format(nodo.accion.nombre))\n",
    "        nodo = nodo.padre"
   ]
  },
  {
   "cell_type": "markdown",
   "metadata": {},
   "source": [
    "Crear la función que ejecuta el problema"
   ]
  },
  {
   "cell_type": "code",
   "execution_count": 12,
   "metadata": {},
   "outputs": [],
   "source": [
    "# Llama a los métodos auxiliares, aquí le entregamos los datos \n",
    "# al algoritmo de busqueda\n",
    "def amplitud(problema):\n",
    "    raiz = crear_nodo_raiz(problema)\n",
    "    if problema.es_objetivo(raiz.estado):\n",
    "        return raiz\n",
    "    frontera = [raiz,]\n",
    "    explorados = set()\n",
    "    while True:\n",
    "        print('frontera: ', [nodo.estado.nombre for nodo in frontera])\n",
    "        print('explorados: ', [estado.nombre for estado in explorados])\n",
    "        if not frontera:\n",
    "            return None\n",
    "        nodo = frontera.pop(0)\n",
    "        print('escoge: ', nodo.estado.nombre)\n",
    "        print('------------')\n",
    "        explorados.add(nodo.estado)\n",
    "        if not nodo.acciones:\n",
    "            continue\n",
    "        for nombre_accion in nodo.acciones.keys():\n",
    "            accion = Accion(nombre_accion)\n",
    "            hijo = crear_nodo_hijo(problema, nodo, accion)\n",
    "            estados_frontera = [nodo.estado for nodo in frontera]\n",
    "            if (hijo.estado not in explorados and hijo.estado not in estados_frontera):\n",
    "                if problema.es_objetivo(hijo.estado):\n",
    "                    return hijo\n",
    "                frontera.append(hijo)"
   ]
  },
  {
   "cell_type": "markdown",
   "metadata": {},
   "source": [
    "# Crear la estructura del problema"
   ]
  },
  {
   "cell_type": "code",
   "execution_count": 17,
   "metadata": {},
   "outputs": [],
   "source": [
    "if __name__ == '__main__':\n",
    "    # vamos a crear las acciones que puede hacer el agente\n",
    "    accN = Accion('N')\n",
    "    accS = Accion('S')\n",
    "    accE = Accion('E')\n",
    "    accO = Accion('O')\n",
    "    accNE = Accion('NE')\n",
    "    accSE = Accion('SE')\n",
    "    accSO = Accion('SO')\n",
    "    accNO = Accion('NO')\n",
    "\n",
    "    # Vamos a crear los estados\n",
    "    cedi = Estado('cedi', [accSO, accSE])\n",
    "    tienda_1 = Estado('tienda_1', [accS, accSE])\n",
    "    tienda_2 = Estado('tienda_2', [accO, accS, accSE])\n",
    "    tienda_3 = Estado('tienda_3', [accE])\n",
    "    tienda_4 = Estado('tienda_4', [accE])\n",
    "    tienda_5 = Estado('tienda_5', [accNE])\n",
    "    parqueadero = Estado('parqueadero', [])\n",
    "\n",
    "    # Acciones que puede hacer\n",
    "    acciones = {'cedi':{'SE':tienda_2, 'SO':tienda_1},\n",
    "                'tienda_1':{'S':tienda_3, 'SE':tienda_4},\n",
    "                'tienda_2':{'O':tienda_1, 'S':tienda_4, 'SE':parqueadero},\n",
    "                'tienda_3':{'E':tienda_4},\n",
    "                'tienda_4':{'E':tienda_5},\n",
    "                'tienda_5':{'NE':parqueadero}}"
   ]
  },
  {
   "cell_type": "code",
   "execution_count": 20,
   "metadata": {},
   "outputs": [
    {
     "name": "stdout",
     "output_type": "stream",
     "text": [
      "frontera:  ['cedi']\n",
      "explorados:  []\n",
      "escoge:  cedi\n",
      "------------\n",
      "frontera:  ['tienda_2', 'tienda_1']\n",
      "explorados:  ['cedi']\n",
      "escoge:  tienda_2\n",
      "------------\n",
      "Estado: parqueadero\n",
      "<----SE---->\n",
      "Estado: tienda_2\n",
      "<----SE---->\n",
      "Estado: cedi\n"
     ]
    }
   ],
   "source": [
    "objetivo = [parqueadero]\n",
    "problema = Problema(cedi, objetivo, acciones)\n",
    "solucion = amplitud(problema)\n",
    "muestra_solucion(solucion)"
   ]
  }
 ],
 "metadata": {
  "kernelspec": {
   "display_name": ".venv",
   "language": "python",
   "name": "python3"
  },
  "language_info": {
   "codemirror_mode": {
    "name": "ipython",
    "version": 3
   },
   "file_extension": ".py",
   "mimetype": "text/x-python",
   "name": "python",
   "nbconvert_exporter": "python",
   "pygments_lexer": "ipython3",
   "version": "3.12.8"
  }
 },
 "nbformat": 4,
 "nbformat_minor": 2
}
