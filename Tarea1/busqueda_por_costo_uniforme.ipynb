{
 "cells": [
  {
   "cell_type": "code",
   "execution_count": 1,
   "metadata": {},
   "outputs": [],
   "source": [
    "from grafos import Accion\n",
    "from grafos import Estado\n",
    "from grafos import Nodo\n",
    "from grafos import Problema"
   ]
  },
  {
   "cell_type": "markdown",
   "metadata": {},
   "source": [
    "Crear métodos auxiliares"
   ]
  },
  {
   "cell_type": "code",
   "execution_count": 2,
   "metadata": {},
   "outputs": [],
   "source": [
    "def crear_nodo_raiz(problema):\n",
    "    estado_raiz = problema.estado_inicial\n",
    "    acciones_raiz = {}\n",
    "    if estado_raiz.nombre in problema.acciones.keys():\n",
    "        acciones_raiz = problema.acciones[estado_raiz.nombre]\n",
    "    raiz = Nodo(estado_raiz, None, acciones_raiz, None)\n",
    "    return raiz\n",
    "\n",
    "def crear_nodo_hijo(problema, padre, accion):\n",
    "    nuevo_estado = problema.resultado(padre.estado, accion)\n",
    "    acciones_nuevo = {}\n",
    "    if nuevo_estado.nombre in problema.acciones.keys():\n",
    "        acciones_nuevo = problema.acciones[nuevo_estado.nombre]\n",
    "    hijo = Nodo(nuevo_estado, accion, acciones_nuevo, padre)\n",
    "    costo = padre.costo\n",
    "    costo += problema.costo_accion(padre.estado, accion)\n",
    "    hijo.costo = costo\n",
    "    padre.hijos.append(hijo)\n",
    "    return hijo\n",
    "\n",
    "def muestra_solucion(objetivo = None, problema_resolver = None):\n",
    "    if not objetivo:\n",
    "        print('No hay solución')\n",
    "        return\n",
    "    nodo = objetivo\n",
    "    while nodo:\n",
    "        msg = 'Estado: {0}, Costo Total: {1}'\n",
    "        estado = nodo.estado.nombre\n",
    "        costo_total = nodo.costo\n",
    "        print(msg.format(estado, costo_total))\n",
    "        if nodo.accion:\n",
    "            accion = nodo.accion.nombre\n",
    "            padre = nodo.padre.estado\n",
    "            costo = problema_resolver.costo_accion(padre, nodo.accion)\n",
    "            msg = \"<----{0} [{1}]---->\"\n",
    "            print(msg.format(accion, costo))\n",
    "            print('-----------')\n",
    "        nodo = nodo.padre"
   ]
  },
  {
   "cell_type": "markdown",
   "metadata": {},
   "source": [
    "Crear la función que ejecuta el problema"
   ]
  },
  {
   "cell_type": "code",
   "execution_count": 3,
   "metadata": {},
   "outputs": [],
   "source": [
    "def costo_uniforme(problema):\n",
    "    raiz = crear_nodo_raiz(problema)\n",
    "    frontera = [raiz,]\n",
    "    explorados = set()\n",
    "    while True:\n",
    "        print('frontera: ', [(nodo.estado.nombre, nodo.costo) for nodo in frontera])\n",
    "        if not frontera:\n",
    "            return None\n",
    "        nodo = frontera.pop(0)\n",
    "        if problema.es_objetivo(nodo.estado):\n",
    "            return nodo\n",
    "        print('escoge: ', nodo.estado.nombre)\n",
    "        print('------------')\n",
    "        explorados.add(nodo.estado)\n",
    "        if not nodo.acciones:\n",
    "            continue\n",
    "        for nombre_accion in nodo.acciones.keys():\n",
    "            accion = Accion(nombre_accion)\n",
    "            hijo = crear_nodo_hijo(problema, nodo, accion)\n",
    "            estados_frontera = [nodo.estado for nodo in frontera]\n",
    "            if (hijo.estado not in explorados and hijo.estado not in estados_frontera):\n",
    "                frontera.append(hijo)\n",
    "            else:\n",
    "                buscar = [nodo for nodo in frontera if nodo.estado == hijo.estado]\n",
    "                if buscar:\n",
    "                    if hijo.costo < buscar[0].costo:\n",
    "                        indice = frontera.index(buscar[0])\n",
    "                        frontera[indice] = hijo\n",
    "            frontera.sort(key = lambda nodo: nodo.costo)"
   ]
  },
  {
   "cell_type": "markdown",
   "metadata": {},
   "source": [
    "# Construir estructura del problema"
   ]
  },
  {
   "cell_type": "code",
   "execution_count": 4,
   "metadata": {},
   "outputs": [],
   "source": [
    "if __name__ == '__main__':\n",
    "    # vamos a crear las acciones que puede hacer el agente\n",
    "    accN = Accion('N')\n",
    "    accS = Accion('S')\n",
    "    accE = Accion('E')\n",
    "    accO = Accion('O')\n",
    "    accNE = Accion('NE')\n",
    "    accSE = Accion('SE')\n",
    "    accSO = Accion('SO')\n",
    "    accNO = Accion('NO')\n",
    "\n",
    "    # Vamos a crear los estados\n",
    "    ATec = Estado('ATec', [accSO, accSE])\n",
    "    CoTec = Estado('CoTec', [accSO, accSE, accE])\n",
    "    ArqDat = Estado('ArqDat', [accS])\n",
    "    MesAyu = Estado('MesAyu', [accSE, accE])\n",
    "    ArqSol = Estado('ArqSol', [accO, accSE])\n",
    "    GerTec = Estado('GerTec', [accSO, accSE])\n",
    "    DirAd = Estado('DirAd', [accSE])\n",
    "    GerenteGeneral = Estado('GerenteGeneral', [])\n",
    "\n",
    "    # Acciones que puede hacer\n",
    "    acciones = {'ATec':{'SO':CoTec, 'SE':ArqDat},\n",
    "                'CoTec':{'SO':MesAyu, 'SE':ArqSol, 'E':ArqDat},\n",
    "                'ArqDat':{'S':GerTec},\n",
    "                'MesAyu':{'SE':DirAd, 'E':GerTec},\n",
    "                'ArqSol':{'O':MesAyu, 'SE':GerTec},\n",
    "                'GerTec':{'SO':DirAd, 'SE':GerenteGeneral},\n",
    "                'DirAd':{'SE':GerenteGeneral}\n",
    "                }\n",
    "    \n",
    "    costos = {'ATec':{'SO':10, 'SE':50},\n",
    "                'CoTec':{'SO':15, 'SE':30, 'E':20},\n",
    "                'ArqDat':{'S':100},\n",
    "                'MesAyu':{'SE':150, 'E':40},\n",
    "                'ArqSol':{'O':10, 'SE':60},\n",
    "                'GerTec':{'SO':70, 'SE':80},\n",
    "                'DirAd':{'SE':40}\n",
    "                }"
   ]
  },
  {
   "cell_type": "code",
   "execution_count": 6,
   "metadata": {},
   "outputs": [
    {
     "name": "stdout",
     "output_type": "stream",
     "text": [
      "frontera:  [('ATec', 0)]\n",
      "escoge:  ATec\n",
      "------------\n",
      "frontera:  [('CoTec', 10), ('ArqDat', 50)]\n",
      "escoge:  CoTec\n",
      "------------\n",
      "frontera:  [('MesAyu', 25), ('ArqDat', 30), ('ArqSol', 40)]\n",
      "escoge:  MesAyu\n",
      "------------\n",
      "frontera:  [('ArqDat', 30), ('ArqSol', 40), ('GerTec', 65), ('DirAd', 175)]\n",
      "escoge:  ArqDat\n",
      "------------\n",
      "frontera:  [('ArqSol', 40), ('GerTec', 65), ('DirAd', 175)]\n",
      "escoge:  ArqSol\n",
      "------------\n",
      "frontera:  [('GerTec', 65), ('DirAd', 175)]\n",
      "escoge:  GerTec\n",
      "------------\n",
      "frontera:  [('DirAd', 135), ('GerenteGeneral', 145)]\n",
      "escoge:  DirAd\n",
      "------------\n",
      "frontera:  [('GerenteGeneral', 145)]\n",
      "Estado: GerenteGeneral, Costo Total: 145\n",
      "<----SE [80]---->\n",
      "-----------\n",
      "Estado: GerTec, Costo Total: 65\n",
      "<----E [40]---->\n",
      "-----------\n",
      "Estado: MesAyu, Costo Total: 25\n",
      "<----SO [15]---->\n",
      "-----------\n",
      "Estado: CoTec, Costo Total: 10\n",
      "<----SO [10]---->\n",
      "-----------\n",
      "Estado: ATec, Costo Total: 0\n"
     ]
    }
   ],
   "source": [
    "objetivo = [ GerenteGeneral]\n",
    "problema = Problema(ATec, objetivo, acciones, costos)\n",
    "solucion = costo_uniforme(problema)\n",
    "muestra_solucion(solucion, problema)"
   ]
  }
 ],
 "metadata": {
  "kernelspec": {
   "display_name": ".venv",
   "language": "python",
   "name": "python3"
  },
  "language_info": {
   "codemirror_mode": {
    "name": "ipython",
    "version": 3
   },
   "file_extension": ".py",
   "mimetype": "text/x-python",
   "name": "python",
   "nbconvert_exporter": "python",
   "pygments_lexer": "ipython3",
   "version": "3.12.8"
  }
 },
 "nbformat": 4,
 "nbformat_minor": 2
}
