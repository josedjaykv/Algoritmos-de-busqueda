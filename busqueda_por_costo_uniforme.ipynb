{
 "cells": [
  {
   "cell_type": "code",
   "execution_count": 20,
   "metadata": {},
   "outputs": [],
   "source": [
    "from grafos import Accion\n",
    "from grafos import Estado\n",
    "from grafos import Nodo\n",
    "from grafos import Problema"
   ]
  },
  {
   "cell_type": "markdown",
   "metadata": {},
   "source": [
    "Crear métodos auxiliares"
   ]
  },
  {
   "cell_type": "code",
   "execution_count": 21,
   "metadata": {},
   "outputs": [],
   "source": [
    "def crear_nodo_raiz(problema):\n",
    "    estado_raiz = problema.estado_inicial\n",
    "    acciones_raiz = {}\n",
    "    if estado_raiz.nombre in problema.acciones.keys():\n",
    "        acciones_raiz = problema.acciones[estado_raiz.nombre]\n",
    "    raiz = Nodo(estado_raiz, None, acciones_raiz, None)\n",
    "    return raiz\n",
    "\n",
    "def crear_nodo_hijo(problema, padre, accion):\n",
    "    nuevo_estado = problema.resultado(padre.estado, accion)\n",
    "    acciones_nuevo = {}\n",
    "    if nuevo_estado.nombre in problema.acciones.keys():\n",
    "        acciones_nuevo = problema.acciones[nuevo_estado.nombre]\n",
    "    hijo = Nodo(nuevo_estado, accion, acciones_nuevo, padre)\n",
    "    costo = padre.costo\n",
    "    costo += problema.costo_accion(padre.estado, accion)\n",
    "    hijo.costo = costo\n",
    "    padre.hijos.append(hijo)\n",
    "    return hijo\n",
    "\n",
    "def muestra_solucion(objetivo = None, problema_resolver = None):\n",
    "    if not objetivo:\n",
    "        print('No hay solución')\n",
    "        return\n",
    "    nodo = objetivo\n",
    "    while nodo:\n",
    "        msg = 'Estado: {0}, Costo Total: {1}'\n",
    "        estado = nodo.estado.nombre\n",
    "        costo_total = nodo.costo\n",
    "        print(msg.format(estado, costo_total))\n",
    "        if nodo.accion:\n",
    "            accion = nodo.accion.nombre\n",
    "            padre = nodo.padre.estado\n",
    "            costo = problema_resolver.costo_accion(padre, nodo.accion)\n",
    "            msg = \"<----{0} [{1}]---->\"\n",
    "            print(msg.format(accion, costo))\n",
    "            print('-----------')\n",
    "        nodo = nodo.padre"
   ]
  },
  {
   "cell_type": "markdown",
   "metadata": {},
   "source": [
    "Crear la función que ejecuta el problema"
   ]
  },
  {
   "cell_type": "code",
   "execution_count": 22,
   "metadata": {},
   "outputs": [],
   "source": [
    "def costo_uniforme(problema):\n",
    "    raiz = crear_nodo_raiz(problema)\n",
    "    frontera = [raiz,]\n",
    "    explorados = set()\n",
    "    while True:\n",
    "        print('frontera: ', [(nodo.estado.nombre, nodo.costo) for nodo in frontera])\n",
    "        if not frontera:\n",
    "            return None\n",
    "        nodo = frontera.pop(0)\n",
    "        if problema.es_objetivo(nodo.estado):\n",
    "            return nodo\n",
    "        print('escoge: ', nodo.estado.nombre)\n",
    "        print('------------')\n",
    "        explorados.add(nodo.estado)\n",
    "        if not nodo.acciones:\n",
    "            continue\n",
    "        for nombre_accion in nodo.acciones.keys():\n",
    "            accion = Accion(nombre_accion)\n",
    "            hijo = crear_nodo_hijo(problema, nodo, accion)\n",
    "            estados_frontera = [nodo.estado for nodo in frontera]\n",
    "            if (hijo.estado not in explorados and hijo.estado not in estados_frontera):\n",
    "                frontera.append(hijo)\n",
    "            else:\n",
    "                buscar = [nodo for nodo in frontera if nodo.estado == hijo.estado]\n",
    "                if buscar:\n",
    "                    if hijo.costo < buscar[0].costo:\n",
    "                        indice = frontera.index(buscar[0])\n",
    "                        frontera[indice] = hijo\n",
    "            frontera.sort(key = lambda nodo: nodo.costo)"
   ]
  },
  {
   "cell_type": "markdown",
   "metadata": {},
   "source": [
    "# Construir estructura del problema"
   ]
  },
  {
   "cell_type": "code",
   "execution_count": 26,
   "metadata": {},
   "outputs": [],
   "source": [
    "# Lo mismo que en el de amplitud, pero en lugar de una cola, usamos una pila\n",
    "if __name__ == '__main__':\n",
    "    # vamos a crear las acciones que puede hacer el agente\n",
    "    accN = Accion('N')\n",
    "    accS = Accion('S')\n",
    "    accE = Accion('E')\n",
    "    accO = Accion('O')\n",
    "    accNE = Accion('NE')\n",
    "    accSE = Accion('SE')\n",
    "    accSO = Accion('SO')\n",
    "    accNO = Accion('NO')\n",
    "\n",
    "    # Vamos a crear los estados\n",
    "    cedi = Estado('cedi', [accSE, accSO])\n",
    "    tienda_1 = Estado('tienda_1', [accS, accSE])\n",
    "    tienda_2 = Estado('tienda_2', [accO, accS, accSE])\n",
    "    tienda_3 = Estado('tienda_3', [accE])\n",
    "    tienda_4 = Estado('tienda_4', [accE])\n",
    "    tienda_5 = Estado('tienda_5', [accNE])\n",
    "    parqueadero = Estado('parqueadero', [])\n",
    "\n",
    "    # Acciones que puede hacer\n",
    "    acciones = {'cedi':{'SO':tienda_1, 'SE':tienda_2},\n",
    "                'tienda_1':{'S':tienda_3, 'SE':tienda_4},\n",
    "                'tienda_2':{'O':tienda_1, 'S':tienda_4, 'SE':parqueadero},\n",
    "                'tienda_3':{'E':tienda_4},\n",
    "                'tienda_4':{'E':tienda_5},\n",
    "                'tienda_5':{'NE':parqueadero}}\n",
    "    \n",
    "    costos = {'cedi':{'SO':15, 'SE':50},\n",
    "                'tienda_1':{'S':20, 'SE':16},\n",
    "                'tienda_2':{'O':18, 'S':25, 'SE':42},\n",
    "                'tienda_3':{'E':8},\n",
    "                'tienda_4':{'E':12},\n",
    "                'tienda_5':{'NE':30}\n",
    "                }"
   ]
  },
  {
   "cell_type": "code",
   "execution_count": 27,
   "metadata": {},
   "outputs": [
    {
     "name": "stdout",
     "output_type": "stream",
     "text": [
      "frontera:  [('cedi', 0)]\n",
      "escoge:  cedi\n",
      "------------\n",
      "frontera:  [('tienda_1', 15), ('tienda_2', 50)]\n",
      "escoge:  tienda_1\n",
      "------------\n",
      "frontera:  [('tienda_4', 31), ('tienda_3', 35), ('tienda_2', 50)]\n",
      "escoge:  tienda_4\n",
      "------------\n",
      "frontera:  [('tienda_3', 35), ('tienda_5', 43), ('tienda_2', 50)]\n",
      "escoge:  tienda_3\n",
      "------------\n",
      "frontera:  [('tienda_5', 43), ('tienda_2', 50)]\n",
      "escoge:  tienda_5\n",
      "------------\n",
      "frontera:  [('tienda_2', 50), ('parqueadero', 73)]\n",
      "escoge:  tienda_2\n",
      "------------\n",
      "frontera:  [('parqueadero', 73)]\n",
      "Estado: parqueadero, Costo Total: 73\n",
      "<----NE [30]---->\n",
      "-----------\n",
      "Estado: tienda_5, Costo Total: 43\n",
      "<----E [12]---->\n",
      "-----------\n",
      "Estado: tienda_4, Costo Total: 31\n",
      "<----SE [16]---->\n",
      "-----------\n",
      "Estado: tienda_1, Costo Total: 15\n",
      "<----SO [15]---->\n",
      "-----------\n",
      "Estado: cedi, Costo Total: 0\n"
     ]
    }
   ],
   "source": [
    "objetivo = [ parqueadero]\n",
    "problema = Problema(cedi, objetivo, acciones, costos)\n",
    "solucion = costo_uniforme(problema)\n",
    "muestra_solucion(solucion, problema)"
   ]
  }
 ],
 "metadata": {
  "kernelspec": {
   "display_name": ".venv",
   "language": "python",
   "name": "python3"
  },
  "language_info": {
   "codemirror_mode": {
    "name": "ipython",
    "version": 3
   },
   "file_extension": ".py",
   "mimetype": "text/x-python",
   "name": "python",
   "nbconvert_exporter": "python",
   "pygments_lexer": "ipython3",
   "version": "3.12.8"
  }
 },
 "nbformat": 4,
 "nbformat_minor": 2
}
